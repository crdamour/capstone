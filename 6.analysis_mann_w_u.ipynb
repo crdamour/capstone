{
 "cells": [
  {
   "cell_type": "code",
   "execution_count": 1,
   "metadata": {},
   "outputs": [],
   "source": [
    "import pandas as pd\n",
    "import numpy as np\n",
    "import matplotlib as mpl\n",
    "import matplotlib.pyplot as plt\n",
    "import seaborn as sns\n",
    "from scipy.stats import shapiro\n",
    "from scipy.stats import mannwhitneyu\n",
    "from scipy.stats import trimboth\n",
    "import itertools\n",
    "from functools import reduce\n",
    "import warnings\n",
    "warnings.filterwarnings(action='once')"
   ]
  },
  {
   "cell_type": "code",
   "execution_count": 2,
   "metadata": {},
   "outputs": [],
   "source": [
    "#Reading in data from file.\n",
    "df_us = pd.read_csv('10_11_20_enriched.csv')\n",
    "#Keeping records in metro groups with at least 30 records in them.\n",
    "df_us = df_us.groupby('StdGeographyName').filter(lambda x: len(x) >= 30)\n",
    "#Creating shorter metro names.\n",
    "df_us.loc[:, 'Metro'] = df_us.loc[:, 'StdGeographyName'].str.split('Metropolitan', expand = True)[0].str.strip()"
   ]
  },
  {
   "cell_type": "code",
   "execution_count": 3,
   "metadata": {},
   "outputs": [],
   "source": [
    "class Metro():\n",
    "    \n",
    "    def __init__(self, df, col):\n",
    "        #DF filtered by select metro.\n",
    "        self.df = df\n",
    "        #Numeric column to assess.\n",
    "        self.col = col\n",
    "        #Metro name.\n",
    "        self.geog = df.Metro.unique()[0]\n",
    "        self.sw = self.shap_wilk()\n",
    "    \n",
    "    def shap_wilk(self, a = .05, d = None):\n",
    "        '''Shapiro-Wilk test for normality. Returns True if Gaussian. Runs upon init.'''\n",
    "        #Convention enables df2 values to be tested in CompareMetro() class.\n",
    "        vals = self.df.loc[:, self.col] if d is None else d.loc[:, self.col]\n",
    "        stat, p = shapiro(vals)\n",
    "        return True if p > a else False\n",
    "    \n",
    "    def plt_met(self):\n",
    "        sns.set_style('whitegrid')\n",
    "        sns.displot(self.df, x = self.col, hue = 'Metro', kind = 'hist', fill = True, height = 6, aspect = 1)\n",
    "    \n",
    "class CompareMetro(Metro):\n",
    "    \n",
    "    def __init__(self, df, col, df2):\n",
    "        super().__init__(df, col)\n",
    "        #DF segmented by metro to compare against first DF.\n",
    "        self.df2 = df2\n",
    "        #Name of second metro comparing against the first.\n",
    "        self.geog2 = df2.Metro.unique()[0]\n",
    "        self.sw2 = self.shap_wilk(d = self.df2)\n",
    "        #True = distributions the same. False = different.\n",
    "        self.mw, self.mw_pval = self.man_whit()\n",
    "        self.mw_trim = False\n",
    "        \n",
    "    def man_whit(self, a = .05, t_amt = .025):\n",
    "        '''Performs Mann-Whitney U test to see if distributions are the same. Attempts trimming\n",
    "        default 2.5% distribution ends if distributions differ. Can vary trimmed amount.'''\n",
    "        mw_s, mw_p = mannwhitneyu(self.df.loc[:, self.col], self.df2.loc[:, self.col])\n",
    "        res = False\n",
    "        if mw_p > a:\n",
    "            res = True\n",
    "        else:\n",
    "            self.mw_trim = True\n",
    "            x1 = trimboth(tuple(self.df.loc[:, self.col]), t_amt)\n",
    "            x2 = trimboth(tuple(self.df2.loc[:, self.col]), t_amt)\n",
    "            mw_s, mw_p = mannwhitneyu(x1, x2)\n",
    "            if mw_p > a:\n",
    "                res = True\n",
    "        return res, mw_p\n",
    "    \n",
    "    def plt_dists(self):\n",
    "        '''Helper function to quickly plot comparison of original distributions.'''\n",
    "        sns.set_style('whitegrid')\n",
    "        conc = pd.concat([self.df, self.df2], axis = 0)\n",
    "        sns.displot(conc, x = self.col, hue = 'Metro', kind = 'hist', fill = True, height = 6, aspect = 1)\n",
    "        \n",
    "def pair_combo(l):\n",
    "    '''Returns all possible pairwise combinations of a list.'''\n",
    "    return list(itertools.combinations(l, 2))\n",
    "\n",
    "def mean_median(df, cols, med = False):\n",
    "    '''Returns 2 column df with mean or median depending on med argument. One col is a category and the other\n",
    "    is the number to be aggregated.'''\n",
    "    res = df[cols].groupby(cols[0]).mean().sort_values(cols[1]).reset_index()\n",
    "    res.loc[:, cols[1]] = res.loc[:, cols[1]].round(2)\n",
    "    return df[cols].groupby(cols[0]).median().sort_values(cols[1]).reset_index() if med else res"
   ]
  },
  {
   "cell_type": "code",
   "execution_count": 4,
   "metadata": {},
   "outputs": [],
   "source": [
    "pairs = pair_combo(df_us.Metro.unique())\n",
    "# len(pairs) #496 pairs"
   ]
  },
  {
   "cell_type": "code",
   "execution_count": 5,
   "metadata": {},
   "outputs": [
    {
     "name": "stderr",
     "output_type": "stream",
     "text": [
      "C:\\Users\\Chris_D\\Anaconda3\\lib\\site-packages\\scipy\\stats\\morestats.py:1309: UserWarning: p-value may not be accurate for N > 5000.\n",
      "  warnings.warn(\"p-value may not be accurate for N > 5000.\")\n",
      "C:\\Users\\Chris_D\\Anaconda3\\lib\\site-packages\\scipy\\stats\\stats.py:4885: DeprecationWarning: Calling `mannwhitneyu` without specifying `alternative` is deprecated.\n",
      "  \"`alternative` is deprecated.\", DeprecationWarning)\n",
      "C:\\Users\\Chris_D\\Anaconda3\\lib\\site-packages\\scipy\\stats\\stats.py:2708: FutureWarning: Using a non-tuple sequence for multidimensional indexing is deprecated; use `arr[tuple(seq)]` instead of `arr[seq]`. In the future this will be interpreted as an array index, `arr[np.array(seq)]`, which will result either in an error or a different result.\n",
      "  return atmp[sl]\n"
     ]
    }
   ],
   "source": [
    "normal = []\n",
    "mw_test_same = []\n",
    "mw_same_trim = []\n",
    "\n",
    "match1 = []\n",
    "match2 = []\n",
    "pval = []\n",
    "\n",
    "for p in pairs:\n",
    "    #Unpacking pair\n",
    "    first, second = p\n",
    "    #Creating comparison instance.\n",
    "    cm_inst = CompareMetro(\n",
    "        df_us[df_us.loc[:, 'Metro'] == first],\n",
    "        'Total Compensation',\n",
    "        df_us[df_us.loc[:, 'Metro'] == second]\n",
    "    )\n",
    "    if cm_inst.sw:\n",
    "        normal.append(first)\n",
    "    if cm_inst.sw2:\n",
    "        normal.append(second)\n",
    "    if cm_inst.mw:\n",
    "        mw_test_same.append(p)\n",
    "        match1.append(cm_inst.geog)\n",
    "        match2.append(cm_inst.geog2)\n",
    "        pval.append(cm_inst.mw_pval)\n",
    "    if cm_inst.mw_trim:\n",
    "        mw_same_trim.append(p)"
   ]
  },
  {
   "cell_type": "code",
   "execution_count": 85,
   "metadata": {},
   "outputs": [
    {
     "data": {
      "text/plain": [
       "107"
      ]
     },
     "execution_count": 85,
     "metadata": {},
     "output_type": "execute_result"
    }
   ],
   "source": [
    "len(mw_test_same) #107\n",
    "# set(normal) #Only Pittsburgh Metro is normally distributed.\n",
    "# len(mw_same_trim) #No arrays were trimmed to support analyses.\n",
    "# pval #107 values."
   ]
  },
  {
   "cell_type": "code",
   "execution_count": 64,
   "metadata": {},
   "outputs": [],
   "source": [
    "tc = ['Metro', 'Total Compensation']\n",
    "#Comparison dataframe of total comp mean, median, and n\n",
    "compare = reduce(\n",
    "    lambda f, s: pd.merge(f, s, on = tc[0]),\n",
    "    [\n",
    "        mean_median(df_us, tc).rename(columns = {tc[1]: f'Mean {tc[1]}'}),\n",
    "        mean_median(df_us, tc, med = True).rename(columns = {tc[1]: f'Median {tc[1]}'}),\n",
    "        df_us[tc].groupby(tc[0]).count().reset_index().rename(columns = {tc[1]: 'n'})\n",
    "    ]\n",
    ")"
   ]
  },
  {
   "cell_type": "code",
   "execution_count": 87,
   "metadata": {},
   "outputs": [],
   "source": [
    "cols = ['Metro', 'CRMCYTOTC', 'DIVINDX_CY', 'X9001_I', 'HAI_CY', 'SQMI'] + [c for c in df_us.columns if 'sqmi' in c]"
   ]
  },
  {
   "cell_type": "code",
   "execution_count": 89,
   "metadata": {},
   "outputs": [],
   "source": [
    "compare = pd.merge(compare, df_us[cols].drop_duplicates(), on = 'Metro')"
   ]
  },
  {
   "cell_type": "code",
   "execution_count": 8,
   "metadata": {},
   "outputs": [],
   "source": [
    "#Matches based on mann whitney u test. An edgelist for graph.\n",
    "matches = pd.DataFrame({'Match1': match1, 'Match2': match2, 'pval': pval})"
   ]
  },
  {
   "cell_type": "code",
   "execution_count": 90,
   "metadata": {},
   "outputs": [],
   "source": [
    "#Writing files to review, compare, etc.\n",
    "compare.to_csv('comparisons.csv', index = False)"
   ]
  },
  {
   "cell_type": "code",
   "execution_count": 91,
   "metadata": {},
   "outputs": [],
   "source": [
    "matches.to_csv('matches.csv', index = False)"
   ]
  }
 ],
 "metadata": {
  "kernelspec": {
   "display_name": "Python 3",
   "language": "python",
   "name": "python3"
  },
  "language_info": {
   "codemirror_mode": {
    "name": "ipython",
    "version": 3
   },
   "file_extension": ".py",
   "mimetype": "text/x-python",
   "name": "python",
   "nbconvert_exporter": "python",
   "pygments_lexer": "ipython3",
   "version": "3.7.1"
  }
 },
 "nbformat": 4,
 "nbformat_minor": 2
}

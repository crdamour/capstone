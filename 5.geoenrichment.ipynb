{
 "cells": [
  {
   "cell_type": "code",
   "execution_count": 1,
   "metadata": {},
   "outputs": [
    {
     "name": "stderr",
     "output_type": "stream",
     "text": [
      "C:\\Users\\Chris_D\\Anaconda3\\lib\\site-packages\\arcgis\\features\\_data\\geodataset\\utils.py:15: FutureWarning: The pandas.datetime class is deprecated and will be removed from pandas in a future version. Import from datetime module instead.\n",
      "  pd.datetime,\n"
     ]
    }
   ],
   "source": [
    "import os\n",
    "from pathlib2 import Path\n",
    "home = Path.cwd()\n",
    "dest = Path(str(home.parents[1]) + '\\\\gis')\n",
    "os.chdir(dest)\n",
    "import esri\n",
    "from arcgis.features import FeatureLayer\n",
    "import arcgis.geoenrichment\n",
    "from arcgis.geoenrichment import enrich\n",
    "os.chdir(home)\n",
    "import pandas as pd\n",
    "import json"
   ]
  },
  {
   "cell_type": "code",
   "execution_count": 2,
   "metadata": {},
   "outputs": [],
   "source": [
    "def countries(cntry = None):\n",
    "    '''Returns all countries if no args. Returns country if country arg.'''\n",
    "    return arcgis.geoenrichment.Country.get(cntry) if cntry else arcgis.geoenrichment.get_countries()\n",
    "\n",
    "def cbsa(sg, sa = 'metropolitan'):\n",
    "    '''Returns dict of metropolitan or micropolitan for statistical area chosen for specified subgeography\n",
    "    and specified statistical area. Default is metropolitan.'''\n",
    "    return {k: v for (k, v) in sg.subgeographies.cbsa.items() if sa in k.lower()}\n",
    "\n",
    "def area_ids(d):\n",
    "    '''Returns a dict of area_id codes to named areas. User enters dict of named areas.'''\n",
    "    codes_nas = {}\n",
    "    for k, v in d.items():\n",
    "        vals = str(v).split()\n",
    "        for x in vals:\n",
    "            if 'area_id' in x:\n",
    "                aid, code = x.split('=')\n",
    "                #Removing leading/trailing punctuation.\n",
    "                code = code[1:-2]\n",
    "                codes_nas[code] = v\n",
    "    return codes_nas\n",
    "\n",
    "def credit_calc(atts, dps):\n",
    "    '''Calculates number of credits used in ArcGIS online for geoenrichment. User enters number of attributes\n",
    "    that need to be enriched and the number geoenrichment data points.'''\n",
    "    return (atts / 1000) * 10 * dps"
   ]
  },
  {
   "cell_type": "code",
   "execution_count": 3,
   "metadata": {},
   "outputs": [],
   "source": [
    "#Have to login to access geoenrichment.\n",
    "l = esri.Arcgis(str(dest) + '\\\\config.json')"
   ]
  },
  {
   "cell_type": "code",
   "execution_count": 4,
   "metadata": {},
   "outputs": [],
   "source": [
    "usa = countries('US')\n",
    "metros = cbsa(usa)\n",
    "data = usa.data_collections"
   ]
  },
  {
   "cell_type": "code",
   "execution_count": 6,
   "metadata": {},
   "outputs": [],
   "source": [
    "#Codes and named areas since cbsa id codes are embedded in named area and don't know how to derive property.\n",
    "na_codes = area_ids(metros)"
   ]
  },
  {
   "cell_type": "code",
   "execution_count": 7,
   "metadata": {},
   "outputs": [
    {
     "name": "stderr",
     "output_type": "stream",
     "text": [
      "C:\\Users\\Chris_D\\Anaconda3\\lib\\site-packages\\IPython\\core\\interactiveshell.py:3020: DtypeWarning: Columns (13,14) have mixed types.Specify dtype option on import or set low_memory=False.\n",
      "  interactivity=interactivity, compiler=compiler, result=result)\n"
     ]
    }
   ],
   "source": [
    "#Reading in geolocated records with metro code information in them.\n",
    "file_dir = '\\\\'.join(str(dest).split('\\\\')[0:-1] + ['levels'])\n",
    "os.chdir(file_dir)\n",
    "geoc = pd.read_csv('10_11_20_geoc_metros.csv')"
   ]
  },
  {
   "cell_type": "code",
   "execution_count": 8,
   "metadata": {},
   "outputs": [],
   "source": [
    "#Removing values without a cbsa code.\n",
    "geoc = geoc[~geoc.loc[:, 'CBSA Code'].isnull()]\n",
    "#Changing datatype.\n",
    "geoc.loc[:, 'CBSA Code'] = geoc.loc[:, 'CBSA Code'].astype('int64').astype(str)"
   ]
  },
  {
   "cell_type": "code",
   "execution_count": 9,
   "metadata": {},
   "outputs": [],
   "source": [
    "#Removing any named areas in the na_codes dict that do not exist in my df.\n",
    "na_codes = {k: v for (k, v) in na_codes.items() if k in geoc.loc[:, 'CBSA Code'].unique()}"
   ]
  },
  {
   "cell_type": "code",
   "execution_count": 10,
   "metadata": {},
   "outputs": [],
   "source": [
    "#Seems like 2 codes are not in the arcgis named areas.\n",
    "len(na_codes) #93\n",
    "len(geoc.loc[:, 'CBSA Code'].unique()) #95\n",
    "#2 records for Puerto Rico. Must have been entered in with CBSA codes after the last update.\n",
    "geoc[~geoc.loc[:, 'CBSA Code'].isin(na_codes)]\n",
    "#Removing those two records from the dataset.\n",
    "geoc = geoc[~geoc.index.isin(geoc[~geoc.loc[:, 'CBSA Code'].isin(na_codes)].index)]"
   ]
  },
  {
   "cell_type": "code",
   "execution_count": 11,
   "metadata": {},
   "outputs": [],
   "source": [
    "#Reading in variables to fetch from ArcGIS content.\n",
    "with open(Path.joinpath(home, 'variables.json')) as f:\n",
    "    ag_vars = json.load(f)"
   ]
  },
  {
   "cell_type": "code",
   "execution_count": 12,
   "metadata": {},
   "outputs": [],
   "source": [
    "#Study areas.\n",
    "study_ars = list(na_codes.values())"
   ]
  },
  {
   "cell_type": "markdown",
   "metadata": {},
   "source": [
    "# Enriching data and writing data in parts to avoid accidental credit overusage."
   ]
  },
  {
   "cell_type": "code",
   "execution_count": 25,
   "metadata": {},
   "outputs": [],
   "source": [
    "path = Path.joinpath(Path.cwd(), 'geoenrich', 'enriched')"
   ]
  },
  {
   "cell_type": "code",
   "execution_count": 19,
   "metadata": {},
   "outputs": [],
   "source": [
    "# edu = enrich(study_areas = study_ars, analysis_variables = ag_vars['educ'])\n",
    "edu.to_csv(Path.joinpath(path, 'educ.csv'), index = False)"
   ]
  },
  {
   "cell_type": "code",
   "execution_count": 35,
   "metadata": {},
   "outputs": [],
   "source": [
    "# diverse = enrich(study_areas = study_ars, analysis_variables = ag_vars['div'])\n",
    "diverse.to_csv(Path.joinpath(path, 'diversity.csv'), index = False)"
   ]
  },
  {
   "cell_type": "code",
   "execution_count": 42,
   "metadata": {},
   "outputs": [],
   "source": [
    "# unemp = enrich(study_areas = study_ars, analysis_variables = ag_vars['unem'])\n",
    "unemp.to_csv(Path.joinpath(path, 'unemployment.csv'), index = False)"
   ]
  },
  {
   "cell_type": "code",
   "execution_count": 58,
   "metadata": {},
   "outputs": [],
   "source": [
    "# naics = enrich(study_areas = study_ars, analysis_variables = ag_vars['bus'])\n",
    "naics.to_csv(Path.joinpath(path, 'businesses.csv'), index = False)"
   ]
  },
  {
   "cell_type": "code",
   "execution_count": 65,
   "metadata": {},
   "outputs": [],
   "source": [
    "# ent = enrich(study_areas = study_ars, analysis_variables = ag_vars['ent'])\n",
    "ent.to_csv(Path.joinpath(path, 'entertainment.csv'), index = False)"
   ]
  },
  {
   "cell_type": "code",
   "execution_count": 67,
   "metadata": {},
   "outputs": [],
   "source": [
    "# crime = enrich(study_areas = study_ars, analysis_variables = ag_vars['crm'])\n",
    "crime.to_csv(Path.joinpath(path, 'crime.csv'), index = False)"
   ]
  },
  {
   "cell_type": "code",
   "execution_count": 73,
   "metadata": {},
   "outputs": [],
   "source": [
    "# gens = enrich(study_ars, analysis_variables = ag_vars['gens'])\n",
    "gens.to_csv(Path.joinpath(path, 'generations.csv'), index = False)"
   ]
  },
  {
   "cell_type": "code",
   "execution_count": 76,
   "metadata": {},
   "outputs": [],
   "source": [
    "# house = enrich(study_areas = study_ars, analysis_variables = ag_vars['house'])\n",
    "house.to_csv(Path.joinpath(path, 'housing.csv'), index = False)"
   ]
  },
  {
   "cell_type": "code",
   "execution_count": 83,
   "metadata": {},
   "outputs": [],
   "source": [
    "# occ = enrich(study_areas = study_ars, analysis_variables = ag_vars['occ'])\n",
    "occ.to_csv(Path.joinpath(path, 'occupations.csv'), index = False)"
   ]
  },
  {
   "cell_type": "markdown",
   "metadata": {},
   "source": [
    "# Reading geoenriched information back in to normalize."
   ]
  },
  {
   "cell_type": "code",
   "execution_count": 155,
   "metadata": {},
   "outputs": [],
   "source": [
    "dfs = {f.split('.')[0]: pd.read_csv(Path.joinpath(path, f)) for f in os.listdir(Path.joinpath(path)) if f.endswith('.csv')}"
   ]
  },
  {
   "cell_type": "code",
   "execution_count": 1,
   "metadata": {},
   "outputs": [],
   "source": [
    "#Evaluating unique records.\n",
    "\n",
    "# for df in dfs.values():\n",
    "#     print(df.HasData.unique()) #All have ones, indicating data is there for all data.\n",
    "#     print(df.sourceCountry.unique()) #All US\n",
    "#     print(df.aggregationMethod.unique()) #All CBSA\n",
    "#     print(df.populationToPolygonSizeRating.unique()) #All 2.191. Dont know what that means.\n",
    "#     print(len(df)) #All 93 rows.\n",
    "#     print(df.columns)"
   ]
  },
  {
   "cell_type": "code",
   "execution_count": 181,
   "metadata": {},
   "outputs": [],
   "source": [
    "succinct = {k: pd.concat([v.iloc[0:, 3:5], v.iloc[0:, v.columns.get_loc('HasData') + 1:]], axis = 1) for (k, v) in dfs.items()}"
   ]
  },
  {
   "cell_type": "code",
   "execution_count": 183,
   "metadata": {},
   "outputs": [],
   "source": [
    "#Can actually get rid of shape too...keeping for only one df since geometries are the same.\n",
    "from functools import reduce\n",
    "#Beginning result column names.\n",
    "c_beg = ['StdGeographyID', 'StdGeographyName']\n",
    "rollup = reduce(lambda df1, df2 : pd.merge(df1, df2, on = c_beg[0]), succinct.values())\n",
    "#Getting rid of redundant columns.\n",
    "rollup = rollup.drop([f'{c_beg[1]}_x', f'{c_beg[1]}_y', 'SHAPE_x', 'SHAPE_y'], axis = 1)\n",
    "#Reordering columns.\n",
    "cols = c_beg + [col for col in rollup.columns if col not in c_beg]\n",
    "rollup = rollup[cols]"
   ]
  },
  {
   "cell_type": "code",
   "execution_count": 190,
   "metadata": {},
   "outputs": [],
   "source": [
    "rollup.loc[:, 'StdGeographyID'] = rollup.loc[:, 'StdGeographyID'].astype(str)"
   ]
  },
  {
   "cell_type": "code",
   "execution_count": 191,
   "metadata": {},
   "outputs": [],
   "source": [
    "# rollup.to_csv(Path.joinpath(path, 'all.csv'), index = False)"
   ]
  },
  {
   "cell_type": "code",
   "execution_count": 319,
   "metadata": {},
   "outputs": [],
   "source": [
    "to_visualize = pd.merge(geoc, rollup, left_on = 'CBSA Code', right_on = 'StdGeographyID')"
   ]
  },
  {
   "cell_type": "code",
   "execution_count": 320,
   "metadata": {},
   "outputs": [],
   "source": [
    "cbsa_url = 'https://services.arcgis.com/P3ePLMYs2RVChkJx/arcgis/rest/services/usa_cbsa/FeatureServer/0'\n",
    "cbsa_fl = FeatureLayer(cbsa_url)"
   ]
  },
  {
   "cell_type": "code",
   "execution_count": 321,
   "metadata": {},
   "outputs": [],
   "source": [
    "cbsa_features = cbsa_fl.query(where = \"CBSA_TYPE = 'Metropolitan'\")\n",
    "#Creating spatial dataframe.\n",
    "cbsa_df = cbsa_features.sdf"
   ]
  },
  {
   "cell_type": "code",
   "execution_count": 322,
   "metadata": {},
   "outputs": [],
   "source": [
    "#Segmenting out poughkeepsie prior to join since code not represented in CBSA metro df.\n",
    "poughkeepsie = to_visualize[to_visualize.loc[:, 'CBSA Code'] == '39100']\n",
    "to_visualize = to_visualize[to_visualize.loc[:, 'CBSA Code'] != '39100']"
   ]
  },
  {
   "cell_type": "code",
   "execution_count": 323,
   "metadata": {},
   "outputs": [],
   "source": [
    "poughkeepsie.loc[:, 'CBSA Code'] = '35620'"
   ]
  },
  {
   "cell_type": "code",
   "execution_count": 324,
   "metadata": {},
   "outputs": [],
   "source": [
    "#Bringing back in to original df.\n",
    "to_visualize = pd.concat([to_visualize, poughkeepsie], axis = 0)"
   ]
  },
  {
   "cell_type": "code",
   "execution_count": 325,
   "metadata": {},
   "outputs": [],
   "source": [
    "to_visualize = pd.merge(to_visualize, cbsa_df[['CBSA_ID', 'SQMI']], left_on = 'CBSA Code', right_on = 'CBSA_ID')"
   ]
  },
  {
   "cell_type": "code",
   "execution_count": 326,
   "metadata": {},
   "outputs": [],
   "source": [
    "#Identifying coolumns that need to be divided by square mile.\n",
    "vars_psqm = list({k: v for (k, v) in ag_vars.items() if k not in ['crm', 'ent', 'pop', 'disp', 'ind_emp']}.values())\n",
    "vars_psqm = [i for l in vars_psqm for i in l]\n",
    "#Removing index items that were embedded in original lists.\n",
    "vars_psqm.remove('DIVINDX_CY')\n",
    "vars_psqm.remove('HAI_CY')"
   ]
  },
  {
   "cell_type": "code",
   "execution_count": 327,
   "metadata": {},
   "outputs": [],
   "source": [
    "#Creating per square mile calculated columns for appropriate columns.\n",
    "for c in vars_psqm:\n",
    "    to_visualize.loc[:, c + '_sqmi'] = to_visualize.loc[:, c] / to_visualize.loc[:, 'SQMI']"
   ]
  },
  {
   "cell_type": "code",
   "execution_count": 343,
   "metadata": {},
   "outputs": [],
   "source": [
    "#Dropping SHAPE (geometry) column for now for ease of viewing tabular data.\n",
    "to_visualize = to_visualize.drop('SHAPE', axis = 1)"
   ]
  },
  {
   "cell_type": "code",
   "execution_count": 348,
   "metadata": {},
   "outputs": [],
   "source": [
    "to_visualize.to_csv('10_11_20_enriched.csv', index = False)"
   ]
  }
 ],
 "metadata": {
  "kernelspec": {
   "display_name": "Python 3",
   "language": "python",
   "name": "python3"
  },
  "language_info": {
   "codemirror_mode": {
    "name": "ipython",
    "version": 3
   },
   "file_extension": ".py",
   "mimetype": "text/x-python",
   "name": "python",
   "nbconvert_exporter": "python",
   "pygments_lexer": "ipython3",
   "version": "3.7.1"
  }
 },
 "nbformat": 4,
 "nbformat_minor": 2
}

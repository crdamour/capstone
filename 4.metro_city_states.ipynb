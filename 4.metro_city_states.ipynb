{
 "cells": [
  {
   "cell_type": "code",
   "execution_count": 1,
   "metadata": {},
   "outputs": [],
   "source": [
    "import pandas as pd\n",
    "import requests\n",
    "import json\n",
    "import os\n",
    "from pathlib import Path"
   ]
  },
  {
   "cell_type": "code",
   "execution_count": 2,
   "metadata": {},
   "outputs": [],
   "source": [
    "def prep_data(url):\n",
    "    '''Preps metro city state code files from US Census site.'''\n",
    "    df = pd.read_excel(url)\n",
    "    #Colnames in this row\n",
    "    colnames = df.iloc[1, :].values\n",
    "    df = df.iloc[2:-4, :]\n",
    "    df.columns = colnames\n",
    "    df = df.reset_index().drop('index', axis = 1)\n",
    "    return df"
   ]
  },
  {
   "cell_type": "code",
   "execution_count": 3,
   "metadata": {},
   "outputs": [],
   "source": [
    "#Reading in urls to grab relevant data.\n",
    "with open('metro_city_states.json') as f:\n",
    "    urls = json.load(f)"
   ]
  },
  {
   "cell_type": "code",
   "execution_count": 4,
   "metadata": {},
   "outputs": [
    {
     "name": "stderr",
     "output_type": "stream",
     "text": [
      "C:\\Users\\Chris_D\\Anaconda3\\lib\\site-packages\\IPython\\core\\interactiveshell.py:3020: DtypeWarning: Columns (13,14) have mixed types.Specify dtype option on import or set low_memory=False.\n",
      "  interactivity=interactivity, compiler=compiler, result=result)\n"
     ]
    }
   ],
   "source": [
    "dfs = {'ms_df': prep_data(urls['ms_url']), 'mc_df': prep_data(urls['mc_url'])}\n",
    "home = Path.cwd()\n",
    "os.chdir(Path(home).parents[0])\n",
    "#Geocoded prepped data.\n",
    "df = pd.read_csv('10_11_20_geocoded.csv')\n",
    "os.chdir(home)"
   ]
  },
  {
   "cell_type": "code",
   "execution_count": 5,
   "metadata": {},
   "outputs": [],
   "source": [
    "cb = 'CBSA Code'\n",
    "c = 'Metropolitan/Micropolitan Statistical Area'\n",
    "val = 'Metropolitan Statistical Area'\n",
    "\n",
    "#Ensuring CBSA codes are strings.\n",
    "#Keeping only metros for now to get rid of noise when considering micros\n",
    "#Micros result in more than one record per city. Ex CBSA code: 10100\n",
    "for k, v in dfs.items():\n",
    "    v.loc[:, cb] = v.loc[:, cb].astype(str)\n",
    "    dfs[k] = v[v.loc[:, c] == val]\n",
    "    \n",
    "#Verified only Metro.\n",
    "# dfs['ms_df'][c].unique()\n",
    "# dfs['mc_df'][c].unique()"
   ]
  },
  {
   "cell_type": "code",
   "execution_count": 6,
   "metadata": {},
   "outputs": [],
   "source": [
    "#Only keeping columns needed and dropping duplicates.\n",
    "cols = [cb, 'CBSA Title', 'FIPS State Code', 'Principal City Name']\n",
    "dfs['mc_df'] = dfs['mc_df'][cols].drop_duplicates()\n",
    "cols2 = cols[:-1] + ['State Name', 'Metropolitan Division Code', 'Metropolitan Division Title', 'CSA Code', 'CSA Title']\n",
    "dfs['ms_df'] = dfs['ms_df'][cols2].drop_duplicates()"
   ]
  },
  {
   "cell_type": "code",
   "execution_count": 7,
   "metadata": {},
   "outputs": [
    {
     "data": {
      "text/plain": [
       "465"
      ]
     },
     "execution_count": 7,
     "metadata": {},
     "output_type": "execute_result"
    }
   ],
   "source": [
    "len(dfs['mc_df']) #702\n",
    "len(dfs['ms_df']) #465"
   ]
  },
  {
   "cell_type": "code",
   "execution_count": 8,
   "metadata": {},
   "outputs": [],
   "source": [
    "#Since filtered to Metropolitan above don't need as key for join.\n",
    "#Some have more than one. Will analyze further.\n",
    "merged = pd.merge(dfs['ms_df'], dfs['mc_df'], on = list(dfs['ms_df'].columns[0:3])) #838"
   ]
  },
  {
   "cell_type": "code",
   "execution_count": 9,
   "metadata": {},
   "outputs": [],
   "source": [
    "#Obtaining dict of State names and State abbreviations.\n",
    "#https://gist.github.com/rogerallen/1583593\n",
    "git = urls['gt_url']\n",
    "git_txt = requests.get(git).text\n",
    "beg_ind = git_txt.index('{')\n",
    "end_ind = git_txt.index('}')\n",
    "state_dict = eval(' '.join(git_txt[beg_ind: end_ind + 1].split()))\n",
    "abbrev_us_state = dict(map(reversed, state_dict.items()))"
   ]
  },
  {
   "cell_type": "code",
   "execution_count": 10,
   "metadata": {},
   "outputs": [],
   "source": [
    "#Mapping dict to new series in df.\n",
    "df.loc[:, 'State_Name'] = df.State_Province.map(abbrev_us_state)"
   ]
  },
  {
   "cell_type": "code",
   "execution_count": 11,
   "metadata": {},
   "outputs": [],
   "source": [
    "#Reads like the same amount of cities, which should be correct. Some cities associated (like \"tri-state\" areas).\n",
    "# merged[['State Name', 'Principal City Name', 'CBSA Code']].groupby(['State Name', 'Principal City Name']).count()\n",
    "len(df)\n",
    "\n",
    "df = pd.merge(df, merged[['CBSA Code', 'Principal City Name', 'State Name']].drop_duplicates(),\n",
    "              left_on = ['City', 'State_Name'], right_on = ['Principal City Name', 'State Name'],\n",
    "              how = 'left')\n",
    "df = df.drop('State Name', axis = 1)\n",
    "\n",
    "#Some have no result CBSA codes after merge, but after checking a few, it's likely because NOT in Metros.\n",
    "#4689 without CBSA code.\n",
    "# df[df.loc[:, 'CBSA Code'].isnull()]"
   ]
  },
  {
   "cell_type": "code",
   "execution_count": 22,
   "metadata": {},
   "outputs": [],
   "source": [
    "#95 unique metros, those with no nan values or are not based in micros.\n",
    "distinct_cbsas = [code for code in df.loc[:, 'CBSA Code'].unique() if str(code) != 'nan']"
   ]
  },
  {
   "cell_type": "code",
   "execution_count": 24,
   "metadata": {},
   "outputs": [
    {
     "data": {
      "text/plain": [
       "25607"
      ]
     },
     "execution_count": 24,
     "metadata": {},
     "output_type": "execute_result"
    }
   ],
   "source": [
    "len(df) #25607\n",
    "#20918 records left.\n",
    "#df[df.loc[:, 'CBSA Code'].isin(distinct_cbsas)]"
   ]
  },
  {
   "cell_type": "code",
   "execution_count": 29,
   "metadata": {},
   "outputs": [],
   "source": [
    "# df.to_csv(Path(home).parents[0].joinpath('10_11_20_geoc_metros.csv'), index = False)"
   ]
  }
 ],
 "metadata": {
  "kernelspec": {
   "display_name": "Python 3",
   "language": "python",
   "name": "python3"
  },
  "language_info": {
   "codemirror_mode": {
    "name": "ipython",
    "version": 3
   },
   "file_extension": ".py",
   "mimetype": "text/x-python",
   "name": "python",
   "nbconvert_exporter": "python",
   "pygments_lexer": "ipython3",
   "version": "3.7.1"
  }
 },
 "nbformat": 4,
 "nbformat_minor": 2
}

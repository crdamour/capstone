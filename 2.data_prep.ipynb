{
 "cells": [
  {
   "cell_type": "code",
   "execution_count": 1,
   "metadata": {},
   "outputs": [],
   "source": [
    "import pandas as pd\n",
    "import numpy as np"
   ]
  },
  {
   "cell_type": "code",
   "execution_count": 2,
   "metadata": {},
   "outputs": [],
   "source": [
    "def splt_exp_strp(df, col, d):\n",
    "    '''Splits location information up.'''\n",
    "    df = df.loc[:, col].str.split(d, expand = True)\n",
    "    for col in df.columns:\n",
    "        df.loc[:, col] = df.loc[:, col].str.strip()\n",
    "    return df\n",
    "\n",
    "def rem_ind(df1, df2):\n",
    "    '''Returns second df entered after removing index from first df'''\n",
    "    d1_ind = df1.index\n",
    "    return df2[~df2.index.isin(d1_ind)]\n",
    "\n",
    "df = pd.read_excel(r'10_11_20.xlsx')\n",
    "#Changing the original date format to pd date format.\n",
    "df.loc[:, 'Date'] = pd.to_datetime(df.Date)\n",
    "#Only dollar signs.\n",
    "#df.loc[:, 'Total Compensation'].str[0].unique()\n",
    "#Using regex to replace dollar sign and commas in Total Comp col.\n",
    "df.loc[:, 'Total Compensation'] = df.loc[:, 'Total Compensation'].str.replace('[^\\w\\s]','')\n",
    "df.loc[:, 'Total Compensation'] = df.loc[:, 'Total Compensation'].astype(float)\n",
    "#Thousands and Millions are only multipliers.\n",
    "# for c in ['Base', 'Stock', 'Bonus']:\n",
    "#     print(df.loc[:, c].str[-1].unique())\n",
    "#Multipliers and dicts to map to distinct compensation elements.\n",
    "spec_cols = ['Base', 'Stock', 'Bonus']\n",
    "to_replace = {'k': 1000, 'M': 1000000, np.nan: np.nan}\n",
    "cols_to_fix = {col: df.loc[:, col].str[-1].map(to_replace) for (i, col) in enumerate(spec_cols)}\n",
    "for c in spec_cols:\n",
    "    df.loc[:, c] = df.loc[:, c].str[:-1].astype(float) * cols_to_fix[c]\n",
    "#Determining if 3 elements of compensation add up - and creating difference columns.\n",
    "mask = df.loc[:, 'Total Compensation'] != (df.Base + df.Stock + df.Bonus)\n",
    "df.loc[:, 'Difference'] = np.where(mask, 1, 0)\n",
    "df.loc[:, 'Difference Amnt'] = df.loc[:, 'Total Compensation'] - (df.Base + df.Stock + df.Bonus)\n",
    "#Replacing blank strings with NaN.\n",
    "df = df.replace('', np.nan)\n",
    "\n",
    "#Looking more closely at location data.\n",
    "loc = splt_exp_strp(df, 'Location', ',')\n",
    "loc = loc.fillna(value = np.nan)"
   ]
  },
  {
   "cell_type": "code",
   "execution_count": 3,
   "metadata": {},
   "outputs": [],
   "source": [
    "#Few records. Reads like South Korea and Democratic Republic of the Congo. Segmenting out for now.\n",
    "#loc[~loc.iloc[:, 3].isnull()]\n",
    "sk_c = loc[~loc.iloc[:, 3].isnull()]\n",
    "loc = rem_ind(sk_c, loc)"
   ]
  },
  {
   "cell_type": "code",
   "execution_count": 4,
   "metadata": {},
   "outputs": [],
   "source": [
    "#Only nans now, so removing third col.\n",
    "loc = loc.drop(3, axis = 1)"
   ]
  },
  {
   "cell_type": "code",
   "execution_count": 5,
   "metadata": {},
   "outputs": [],
   "source": [
    "#Mainly countries (good). Some Nan - reviewing.\n",
    "loc.iloc[:, 2].unique()\n",
    "#Turns out many of the NaNs in col 2 are just records without United States written in.\n",
    "#Represents a sizable amount of the data set. 26484 Records. Creating US df.\n",
    "us = pd.concat([loc[loc.loc[:, 2] == 'United States'], loc[loc.loc[:, 2].isnull()]], axis = 0)\n",
    "#International\n",
    "intl = rem_ind(us, loc)"
   ]
  },
  {
   "cell_type": "code",
   "execution_count": 6,
   "metadata": {},
   "outputs": [],
   "source": [
    "#Col 1 predominantly reads like states. Segmenting out or removing select few that are countries, NaN.\n",
    "# us[us.iloc[:, 2].isnull()][1].unique()\n",
    "us[us.iloc[:, 1].isnull()]\n",
    "#Removing some bogus/ambiguous locations\n",
    "bogus = ['Remote', 'Somwhere in USA', 'USA', 'Outside USA', 'Asia', 'sf', 'CA']\n",
    "us = us[~us.loc[:, 0].isin(bogus)]"
   ]
  },
  {
   "cell_type": "code",
   "execution_count": 7,
   "metadata": {},
   "outputs": [
    {
     "name": "stderr",
     "output_type": "stream",
     "text": [
      "C:\\Users\\Chris_D\\Anaconda3\\lib\\site-packages\\pandas\\core\\indexing.py:1048: SettingWithCopyWarning: \n",
      "A value is trying to be set on a copy of a slice from a DataFrame.\n",
      "Try using .loc[row_indexer,col_indexer] = value instead\n",
      "\n",
      "See the caveats in the documentation: https://pandas.pydata.org/pandas-docs/stable/user_guide/indexing.html#returning-a-view-versus-a-copy\n",
      "  self.obj[item_labels[indexer[info_axis]]] = value\n"
     ]
    }
   ],
   "source": [
    "#Remaining select few to fix\n",
    "to_fix = us[us.iloc[:, 1].isnull()]\n",
    "st_fix = {'San Francisco': 'CA', 'Santa Clara': 'CA', 'Seattle': 'WA'}\n",
    "to_fix.loc[:, 1] = to_fix.loc[:, 0].map(st_fix)\n",
    "to_fix.loc[:, 2] = np.where(to_fix.loc[:, 1].isnull(), 'India', 'United States')"
   ]
  },
  {
   "cell_type": "code",
   "execution_count": 8,
   "metadata": {},
   "outputs": [],
   "source": [
    "#Now merging dfs back together.\n",
    "us = pd.concat([us, to_fix[to_fix.loc[:, 2] == 'United States']], axis = 0)\n",
    "intl = pd.concat([intl, to_fix[to_fix.loc[:, 2] != 'United States']], axis = 0)"
   ]
  },
  {
   "cell_type": "code",
   "execution_count": 9,
   "metadata": {},
   "outputs": [],
   "source": [
    "#Normalizing US df by inputting country name.\n",
    "us.loc[:, 2] = 'United States'"
   ]
  },
  {
   "cell_type": "code",
   "execution_count": 10,
   "metadata": {},
   "outputs": [],
   "source": [
    "#Revisiting Democratic Republic of the Congo and South Korea df from above.\n",
    "sk_c.loc[:, 2] = sk_c.loc[:, 3] + ' ' + sk_c.loc[:, 2]\n",
    "sk_c = sk_c.drop(3, axis = 1)"
   ]
  },
  {
   "cell_type": "code",
   "execution_count": 11,
   "metadata": {},
   "outputs": [],
   "source": [
    "intl = pd.concat([intl, sk_c], axis = 0)"
   ]
  },
  {
   "cell_type": "code",
   "execution_count": 12,
   "metadata": {},
   "outputs": [],
   "source": [
    "#Mainly read like cities in different countries. Good.\n",
    "intl.loc[:, 0].unique()\n",
    "#Mainly read like state/province initials. Replacing some listed as undefined with Nan.\n",
    "intl.loc[:, 1].unique()\n",
    "intl.loc[:, 1] = intl.loc[:, 1].replace('undefined', np.nan)"
   ]
  },
  {
   "cell_type": "code",
   "execution_count": 41,
   "metadata": {},
   "outputs": [],
   "source": [
    "#Most read like countries. Checking out blank string one.\n",
    "# intl.loc[:, 2].unique()\n",
    "#Looks like these ones are redwood city ca. Merging to original df to see records.\n",
    "# intl[intl.loc[:, 2] == '']\n",
    "#Read like legit us records. Fixing below.\n",
    "# pd.merge(df, intl[intl.loc[:, 2] == ''], left_on = df.index, right_on = intl[intl.loc[:, 2] == ''].index)"
   ]
  },
  {
   "cell_type": "code",
   "execution_count": 13,
   "metadata": {},
   "outputs": [],
   "source": [
    "to_fix2 = intl[intl.loc[:, 2] == '']\n",
    "to_fix2.loc[:, 2] = 'United States'\n",
    "us = pd.concat([us, to_fix2], axis = 0)"
   ]
  },
  {
   "cell_type": "markdown",
   "metadata": {},
   "source": [
    "# Merging cleaned records back to original DF."
   ]
  },
  {
   "cell_type": "code",
   "execution_count": 14,
   "metadata": {},
   "outputs": [],
   "source": [
    "us = pd.merge(df, us, left_on = df.index, right_on = us.index)\n",
    "intl = pd.merge(df, intl, left_on = df.index, right_on = intl.index)"
   ]
  },
  {
   "cell_type": "code",
   "execution_count": 15,
   "metadata": {},
   "outputs": [],
   "source": [
    "#Creating universal file to work from.\n",
    "df = pd.concat([us, intl], axis = 0)\n",
    "df.columns = list(df.columns[:18]) + ['City', 'State_Province', 'Country']"
   ]
  },
  {
   "cell_type": "code",
   "execution_count": 16,
   "metadata": {},
   "outputs": [],
   "source": [
    "#Adding binary for domestic or international.\n",
    "df.loc[:, 'Domestic_International'] = np.where(df.loc[:, 'Country'] == 'United States', 'Domestic', 'International')"
   ]
  },
  {
   "cell_type": "code",
   "execution_count": 17,
   "metadata": {},
   "outputs": [],
   "source": [
    "#Adding Year, Month, and Day columns to help with reviewing information over time."
   ]
  },
  {
   "cell_type": "code",
   "execution_count": 18,
   "metadata": {},
   "outputs": [],
   "source": [
    "df.loc[:, 'Year'] = df.Date.dt.year\n",
    "df.loc[:, 'Month'] = df.Date.dt.month\n",
    "df.loc[:, 'Month_Name'] = df.Date.dt.month_name()\n",
    "df.loc[:, 'Day'] = df.Date.dt.day"
   ]
  },
  {
   "cell_type": "code",
   "execution_count": 19,
   "metadata": {},
   "outputs": [],
   "source": [
    "#Removing few select locations difficult to geocode and miscalculated to Domestic records.\n",
    "miscalc = df[(df.City.isin(['San Fernando', 'Tel Aviv', 'London'])) & (df.Domestic_International == 'Domestic')]\n",
    "df = df[~df.index.isin(miscalc.index)]"
   ]
  },
  {
   "cell_type": "markdown",
   "metadata": {},
   "source": [
    "# Reviewing histogram of differences in total compensation vs. the broken down elements of comp (base, stock, bonus). To eliminate extreme differences. Used US and International since all comp translated to USD."
   ]
  },
  {
   "cell_type": "code",
   "execution_count": 20,
   "metadata": {},
   "outputs": [
    {
     "data": {
      "text/plain": [
       "(-12500, 0)"
      ]
     },
     "execution_count": 20,
     "metadata": {},
     "output_type": "execute_result"
    },
    {
     "data": {
      "image/png": "[encoded data removed]",
      "text/plain": [
       "<Figure size 842.4x595.44 with 1 Axes>"
      ]
     },
     "metadata": {
      "needs_background": "light"
     },
     "output_type": "display_data"
    }
   ],
   "source": [
    "%matplotlib inline\n",
    "import seaborn as sns\n",
    "import matplotlib.pyplot as plt\n",
    "\n",
    "# df[df.Difference != 0].head()\n",
    "# df.loc[:, 'Difference Amnt'].describe()\n",
    "# df.loc[:, 'Difference Amnt'].hist()\n",
    "# plt.show()\n",
    "\n",
    "a4_dims = (11.7, 8.27)\n",
    "fig, ax = plt.subplots(figsize=a4_dims)\n",
    "# sns.histplot(df, x = 'Difference Amnt', ax = ax)\n",
    "\n",
    "# plt.xlim(-250000, 500000)\n",
    "# df[df.loc[:, 'Difference Amnt'] < -100000]#[['Total Compensation', 'Base', 'Stock', 'Bonus', 'Difference Amnt']]\n",
    "\n",
    "# plt.ylim(0, 25000)\n",
    "# plt.xlim(0, 4000)\n",
    "\n",
    "# plt.ylim(0, 75)\n",
    "# plt.xlim(100000, 1000000)\n",
    "\n",
    "#Looking at negative ones.\n",
    "us[us.loc[:, 'Difference Amnt'] < 0]['Difference Amnt']\n",
    "sns.histplot(us[us.loc[:, 'Difference Amnt'] < 0], x = 'Difference Amnt', ax = ax)\n",
    "\n",
    "plt.xlim(-12500, 0)\n",
    "\n",
    "#Based on findings reads like might be good to cutoff between -2000 and +2000"
   ]
  },
  {
   "cell_type": "code",
   "execution_count": 21,
   "metadata": {},
   "outputs": [],
   "source": [
    "len(df) #29776\n",
    "df = df[(df.loc[:, 'Difference Amnt'] >= -2000) & (df.loc[:, 'Difference Amnt'] <= 2000)]"
   ]
  },
  {
   "cell_type": "code",
   "execution_count": 22,
   "metadata": {},
   "outputs": [
    {
     "data": {
      "text/plain": [
       "25607"
      ]
     },
     "execution_count": 22,
     "metadata": {},
     "output_type": "execute_result"
    }
   ],
   "source": [
    "len(df) #25607 Left"
   ]
  },
  {
   "cell_type": "code",
   "execution_count": 23,
   "metadata": {},
   "outputs": [],
   "source": [
    "#Normalizing companies.\n",
    "comps = list(df.Company.unique())\n",
    "#Fixing companies that are NaN with \"Unknown\"\n",
    "df.loc[:, 'Company'] = np.where(df.Company.isnull(), 'Unknown', df.Company)\n",
    "comps = list(df.Company.unique())\n",
    "#Some companies have leading/trailing white space. And setting all to lowercase.\n",
    "comps = [c.strip() for c in comps]\n",
    "comps = [c.lower() for c in comps]\n",
    "#sorted(list(set(comps)))"
   ]
  },
  {
   "cell_type": "code",
   "execution_count": 24,
   "metadata": {},
   "outputs": [],
   "source": [
    "normalize = {\n",
    "    'akamai': 'akamai technologies', 'amazon web services': 'amazon', 'apple inc.': 'apple',\n",
    "    'aws': 'amazon', 'bank of america merrill lynch': 'bank of america', 'bcg digital ventures': 'bcg',\n",
    "    'bloomberg lp': 'bloomberg', 'booking': 'booking.com', 'cisco meraki': 'cisco', 'cisco systems': 'cisco',\n",
    "    'deloitte consulting': 'deloitte', 'epam systems': 'epam', 'epic systems': 'epic', 'expedia group': 'expedia',\n",
    "    'ford motor': 'ford', 'ge digital': 'ge', 'ge healthcare': 'ge', 'gojek tech': 'gojek', 'guidewire software': 'guidewire',\n",
    "    'hewlett packard enterprise': 'hp', 'hp inc': 'hp', 'intel corporation': 'intel', 'jpmorgan chase': 'jpmorgan',\n",
    "    'juniper': 'juniper networks', 'mckinsey & company': 'mckinsey', 'micron technology': 'micron',\n",
    "    'raytheon technologies': 'raytheon', 'samsung electronics america': 'samsung',\n",
    "    'samsung research america': 'samsung', 'sony interactive entertainment': 'sony', 'verizon media': 'verizon',\n",
    "    'walmart labs': 'walmart', 'zillow group': 'zillow', 'the walt disney company': 'disney',\n",
    "    'new york times': 'the new york times'\n",
    "}"
   ]
  },
  {
   "cell_type": "code",
   "execution_count": 25,
   "metadata": {},
   "outputs": [],
   "source": [
    "#Performing same operations on dataframe.\n",
    "df.loc[:, 'Company'] = df.loc[:, 'Company'].str.strip()\n",
    "df.loc[:, 'Company'] = df.loc[:, 'Company'].str.lower()\n",
    "#Mapping new values\n",
    "df.loc[:, 'Company'] = df.loc[:, 'Company'].replace(normalize)\n",
    "df.loc[:, 'Company'] = df.loc[:, 'Company'].str.title()"
   ]
  },
  {
   "cell_type": "code",
   "execution_count": 26,
   "metadata": {},
   "outputs": [],
   "source": [
    "#Adding chronology column to support plotting.\n",
    "\n",
    "chronology = df[['Month', 'Year', 'Company']].groupby(['Year', 'Month']).count().reset_index()\n",
    "chronology.loc[:, 'Chronology'] = np.arange(1, len(chronology) + 1)\n",
    "chronology = chronology.drop('Company', axis = 1)"
   ]
  },
  {
   "cell_type": "code",
   "execution_count": 27,
   "metadata": {},
   "outputs": [],
   "source": [
    "#len(df) #Checking length to ensure no records dropped after inner join.\n",
    "df = pd.merge(df, chronology, left_on = ['Year', 'Month'], right_on = ['Year', 'Month'])\n",
    "#Len is same.\n",
    "#len(df)"
   ]
  },
  {
   "cell_type": "code",
   "execution_count": 65,
   "metadata": {},
   "outputs": [],
   "source": [
    "# df.to_excel(r'10_11_20_prepped.xlsx', index = False)"
   ]
  }
 ],
 "metadata": {
  "kernelspec": {
   "display_name": "Python 3",
   "language": "python",
   "name": "python3"
  },
  "language_info": {
   "codemirror_mode": {
    "name": "ipython",
    "version": 3
   },
   "file_extension": ".py",
   "mimetype": "text/x-python",
   "name": "python",
   "nbconvert_exporter": "python",
   "pygments_lexer": "ipython3",
   "version": "3.7.1"
  }
 },
 "nbformat": 4,
 "nbformat_minor": 2
}
